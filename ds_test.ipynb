{
 "cells": [
  {
   "cell_type": "code",
   "execution_count": 4,
   "metadata": {},
   "outputs": [],
   "source": [
    "import pandas as pd\n",
    "import datetime as dt\n",
    "from datetime import datetime,timedelta\n",
    "from matplotlib import pyplot"
   ]
  },
  {
   "cell_type": "markdown",
   "metadata": {},
   "source": [
    "Para la correcta estimación de los valores futuros de venta, anteriormente deberiamos realizar un correcto análisis de los datos obtenidos a lo largo de los cuatro años.\n",
    "\n",
    "En primer lugar, debemos graficar los datos para poder apreciar si hay estacionariedad o estacionalidad. Respecto a la estacionariedad esta podría ser en media o en varianza. En caso de que haya estacionariedad en media los datos cortarían una linea imaginaria media de los datos de manera reiterada. Para apreciar si hay estacionariedad en varianza deberíamos fijarnos en las fluctuaciones de los datos de manera que la evolución de la serie temporal se encontrase acotada, de manera próxima, por un rango similar en todo su dominio. Como podemos apreciar en el gráfico que se muestra a continuación, no es estacionaria en varianza ya que hay grandes fluctuaciones y pero si en media ya que los datos cortan en una linea imaginaria. \n",
    "\n",
    "En segundo lugar, debemos centrarnos en la estacionalidad ya que al tratarse de venta gafas puede que en determinadas etapas del año la venta sea menor o mayor (ejemplo:verano). Como podemos observar, también es estacional ya que hay un incremento de ventas a finales de año (por compras de navidad) y a mediados (por epoca de sol de verano). \n"
   ]
  },
  {
   "cell_type": "code",
   "execution_count": 5,
   "metadata": {},
   "outputs": [
    {
     "data": {
      "text/plain": [
       "<function matplotlib.pyplot.show(close=None, block=None)>"
      ]
     },
     "execution_count": 5,
     "metadata": {},
     "output_type": "execute_result"
    },
    {
     "data": {
      "image/png": "[encoded data removed]",
      "text/plain": [
       "<Figure size 432x288 with 1 Axes>"
      ]
     },
     "metadata": {
      "needs_background": "light"
     },
     "output_type": "display_data"
    }
   ],
   "source": [
    "sales_data = pd.read_csv('sales_data.csv',parse_dates=['date'])\n",
    "sales_data\n",
    "sales_data.plot(x='date', y='sales')\n",
    "pyplot.show"
   ]
  },
  {
   "cell_type": "markdown",
   "metadata": {},
   "source": [
    "También será preciso un correcto análisis de autocorrelación de los datos y de este modo saber que proceso estocástico siguen, si paseo aleatorio o ruido blanco. Esto podremos verlo a través de la función acf() y pacf() integrada en la librería statsmodels.tsa.stattools."
   ]
  },
  {
   "cell_type": "code",
   "execution_count": 12,
   "metadata": {},
   "outputs": [
    {
     "ename": "TypeError",
     "evalue": "acf() got an unexpected keyword argument 'col'",
     "output_type": "error",
     "traceback": [
      "\u001b[1;31m---------------------------------------------------------------------------\u001b[0m",
      "\u001b[1;31mTypeError\u001b[0m                                 Traceback (most recent call last)",
      "\u001b[1;32m<ipython-input-12-e08eec2b1e31>\u001b[0m in \u001b[0;36m<module>\u001b[1;34m\u001b[0m\n\u001b[0;32m      1\u001b[0m \u001b[1;32mfrom\u001b[0m \u001b[0mstatsmodels\u001b[0m\u001b[1;33m.\u001b[0m\u001b[0mtsa\u001b[0m\u001b[1;33m.\u001b[0m\u001b[0mstattools\u001b[0m \u001b[1;32mimport\u001b[0m \u001b[0macf\u001b[0m\u001b[1;33m,\u001b[0m\u001b[0mpacf\u001b[0m\u001b[1;33m\u001b[0m\u001b[1;33m\u001b[0m\u001b[0m\n\u001b[0;32m      2\u001b[0m \u001b[0msales_data\u001b[0m \u001b[1;33m=\u001b[0m \u001b[0mpd\u001b[0m\u001b[1;33m.\u001b[0m\u001b[0mread_csv\u001b[0m\u001b[1;33m(\u001b[0m\u001b[1;34m'sales_data.csv'\u001b[0m\u001b[1;33m,\u001b[0m\u001b[0mparse_dates\u001b[0m\u001b[1;33m=\u001b[0m\u001b[1;33m[\u001b[0m\u001b[1;34m'date'\u001b[0m\u001b[1;33m]\u001b[0m\u001b[1;33m)\u001b[0m\u001b[1;33m\u001b[0m\u001b[1;33m\u001b[0m\u001b[0m\n\u001b[1;32m----> 3\u001b[1;33m \u001b[0macf\u001b[0m\u001b[1;33m(\u001b[0m\u001b[0msales_data\u001b[0m\u001b[1;33m,\u001b[0m \u001b[0mcol\u001b[0m\u001b[1;33m=\u001b[0m\u001b[1;34m\"2\"\u001b[0m\u001b[1;33m,\u001b[0m \u001b[0mlag\u001b[0m\u001b[1;33m=\u001b[0m \u001b[1;36m180\u001b[0m\u001b[1;33m)\u001b[0m\u001b[1;33m\u001b[0m\u001b[1;33m\u001b[0m\u001b[0m\n\u001b[0m\u001b[0;32m      4\u001b[0m \u001b[1;31m#sales_data.acf(x='date', y='sales')\u001b[0m\u001b[1;33m\u001b[0m\u001b[1;33m\u001b[0m\u001b[1;33m\u001b[0m\u001b[0m\n",
      "\u001b[1;32m~\\Anaconda3\\lib\\site-packages\\pandas\\util\\_decorators.py\u001b[0m in \u001b[0;36mwrapper\u001b[1;34m(*args, **kwargs)\u001b[0m\n\u001b[0;32m    197\u001b[0m                 \u001b[1;32melse\u001b[0m\u001b[1;33m:\u001b[0m\u001b[1;33m\u001b[0m\u001b[1;33m\u001b[0m\u001b[0m\n\u001b[0;32m    198\u001b[0m                     \u001b[0mkwargs\u001b[0m\u001b[1;33m[\u001b[0m\u001b[0mnew_arg_name\u001b[0m\u001b[1;33m]\u001b[0m \u001b[1;33m=\u001b[0m \u001b[0mnew_arg_value\u001b[0m\u001b[1;33m\u001b[0m\u001b[1;33m\u001b[0m\u001b[0m\n\u001b[1;32m--> 199\u001b[1;33m             \u001b[1;32mreturn\u001b[0m \u001b[0mfunc\u001b[0m\u001b[1;33m(\u001b[0m\u001b[1;33m*\u001b[0m\u001b[0margs\u001b[0m\u001b[1;33m,\u001b[0m \u001b[1;33m**\u001b[0m\u001b[0mkwargs\u001b[0m\u001b[1;33m)\u001b[0m\u001b[1;33m\u001b[0m\u001b[1;33m\u001b[0m\u001b[0m\n\u001b[0m\u001b[0;32m    200\u001b[0m \u001b[1;33m\u001b[0m\u001b[0m\n\u001b[0;32m    201\u001b[0m         \u001b[1;32mreturn\u001b[0m \u001b[0mcast\u001b[0m\u001b[1;33m(\u001b[0m\u001b[0mF\u001b[0m\u001b[1;33m,\u001b[0m \u001b[0mwrapper\u001b[0m\u001b[1;33m)\u001b[0m\u001b[1;33m\u001b[0m\u001b[1;33m\u001b[0m\u001b[0m\n",
      "\u001b[1;31mTypeError\u001b[0m: acf() got an unexpected keyword argument 'col'"
     ]
    }
   ],
   "source": [
    "from statsmodels.tsa.stattools import acf,pacf\n",
    "sales_data = pd.read_csv('sales_data.csv',parse_dates=['date'])\n",
    "acf(sales_data, col=\"2\", lag= 180)"
   ]
  },
  {
   "cell_type": "markdown",
   "metadata": {},
   "source": [
    "Una vez hecho el analisis de nuestros datos de venta, llega la hora de ver que modelo de predicción sería necesario utilizar en nuestra función de prediccion. Para ello debemos "
   ]
  },
  {
   "cell_type": "markdown",
   "metadata": {},
   "source": [
    "### Current Code:"
   ]
  },
  {
   "cell_type": "code",
   "execution_count": 3,
   "metadata": {},
   "outputs": [],
   "source": [
    "\n",
    "def forecast_sales(start_date: datetime, end_date: datetime, sales_data: pd.DataFrame):\n",
    "    \"\"\"\n",
    "    Sales estimation function\n",
    "    Parámeters:\n",
    "        - start_date (type:date): prediction start date\n",
    "        - end_date (type:date): prediction end date\n",
    "        - sales_data (type:dataframe): dataframe of sales_data.csv (data,sales)\n",
    "    Return: \n",
    "    \"\"\"\n",
    "    \n",
    "    \n",
    "    days_to_forecast = (end_date - start_date).days #días de las ventas que quiero predecir\n",
    "    mean_daily_sales = sales_data[sales_data['date'] < start_date]['sales'].mean() #media de las ventas anteriores a la fecha de predicción\n",
    "    return mean_daily_sales * days_to_forecast #total de ventas de los meses que quiero predecir "
   ]
  },
  {
   "cell_type": "code",
   "execution_count": 14,
   "metadata": {},
   "outputs": [],
   "source": [
    "def calculate_new_order (order_date: datetime, lead_time_days: int, days_to_next_order: int, \n",
    "                         sales_data: pd.DataFrame, current_stock_level: int, stock_in_transit: int):\n",
    "    \"\"\"\n",
    "        - order_date(type:): \n",
    "        - lead_time_days(type: int): order delivery date (tiempo de espera del pedido = 90)\n",
    "        - days_to_next_order(type: int): date of the next order (tiempo para hacer el proximo pedido = 30)\n",
    "        - sales_data (type:dataframe): dataframe of sales_data.csv (data,sales) \n",
    "        - current_stock_level (type:int): current stock\n",
    "        - stock_in_transit (type:int): stock in transit\n",
    "    \"\"\"\n",
    "    \n",
    "    arrival_date = order_date + timedelta(days=lead_time_days) #fecha final de llegada\n",
    "    next_arrival_date = order_date + timedelta(days=days_to_next_order + lead_time_days) #fecha de llegada si hiciesemos otro pedido al mes siguiente\n",
    "    \n",
    "    forecast_leadtime = forecast_sales(order_date, arrival_date, sales_data) #ventas desde la fecha del pedido hasta la llegada del pedido\n",
    "    estimated_stock_at_arrival = current_stock_level - forecast_leadtime + stock_in_transit #stock actual  - ventas estimadas + stock en transito    \n",
    "    forecast_planning_horizon = forecast_sales(arrival_date,next_arrival_date, sales_data) #ventas estimadas desde el proximo pedido hasta la llegada del proximo pedido\n",
    "    order = max(0,forecast_planning_horizon - estimated_stock_at_arrival) \n",
    "    return order"
   ]
  },
  {
   "cell_type": "markdown",
   "metadata": {},
   "source": [
    "### Calculate Reordering\n"
   ]
  },
  {
   "cell_type": "code",
   "execution_count": 16,
   "metadata": {},
   "outputs": [],
   "source": [
    "order_date = datetime(2020,6,1)\n",
    "lead_time_days = 90\n",
    "days_to_next_order = 30\n",
    "current_stock_level = 400\n",
    "stock_in_transit = 600"
   ]
  },
  {
   "cell_type": "code",
   "execution_count": 17,
   "metadata": {},
   "outputs": [
    {
     "data": {
      "text/html": [
       "<div>\n",
       "<style scoped>\n",
       "    .dataframe tbody tr th:only-of-type {\n",
       "        vertical-align: middle;\n",
       "    }\n",
       "\n",
       "    .dataframe tbody tr th {\n",
       "        vertical-align: top;\n",
       "    }\n",
       "\n",
       "    .dataframe thead th {\n",
       "        text-align: right;\n",
       "    }\n",
       "</style>\n",
       "<table border=\"1\" class=\"dataframe\">\n",
       "  <thead>\n",
       "    <tr style=\"text-align: right;\">\n",
       "      <th></th>\n",
       "      <th>date</th>\n",
       "      <th>sales</th>\n",
       "    </tr>\n",
       "  </thead>\n",
       "  <tbody>\n",
       "    <tr>\n",
       "      <th>0</th>\n",
       "      <td>2016-06-01</td>\n",
       "      <td>12</td>\n",
       "    </tr>\n",
       "    <tr>\n",
       "      <th>1</th>\n",
       "      <td>2016-06-02</td>\n",
       "      <td>22</td>\n",
       "    </tr>\n",
       "    <tr>\n",
       "      <th>2</th>\n",
       "      <td>2016-06-03</td>\n",
       "      <td>19</td>\n",
       "    </tr>\n",
       "    <tr>\n",
       "      <th>3</th>\n",
       "      <td>2016-06-04</td>\n",
       "      <td>20</td>\n",
       "    </tr>\n",
       "    <tr>\n",
       "      <th>4</th>\n",
       "      <td>2016-06-05</td>\n",
       "      <td>5</td>\n",
       "    </tr>\n",
       "    <tr>\n",
       "      <th>...</th>\n",
       "      <td>...</td>\n",
       "      <td>...</td>\n",
       "    </tr>\n",
       "    <tr>\n",
       "      <th>1457</th>\n",
       "      <td>2020-05-28</td>\n",
       "      <td>13</td>\n",
       "    </tr>\n",
       "    <tr>\n",
       "      <th>1458</th>\n",
       "      <td>2020-05-29</td>\n",
       "      <td>15</td>\n",
       "    </tr>\n",
       "    <tr>\n",
       "      <th>1459</th>\n",
       "      <td>2020-05-30</td>\n",
       "      <td>27</td>\n",
       "    </tr>\n",
       "    <tr>\n",
       "      <th>1460</th>\n",
       "      <td>2020-05-31</td>\n",
       "      <td>4</td>\n",
       "    </tr>\n",
       "    <tr>\n",
       "      <th>1461</th>\n",
       "      <td>2020-06-01</td>\n",
       "      <td>11</td>\n",
       "    </tr>\n",
       "  </tbody>\n",
       "</table>\n",
       "<p>1462 rows × 2 columns</p>\n",
       "</div>"
      ],
      "text/plain": [
       "           date  sales\n",
       "0    2016-06-01     12\n",
       "1    2016-06-02     22\n",
       "2    2016-06-03     19\n",
       "3    2016-06-04     20\n",
       "4    2016-06-05      5\n",
       "...         ...    ...\n",
       "1457 2020-05-28     13\n",
       "1458 2020-05-29     15\n",
       "1459 2020-05-30     27\n",
       "1460 2020-05-31      4\n",
       "1461 2020-06-01     11\n",
       "\n",
       "[1462 rows x 2 columns]"
      ]
     },
     "execution_count": 17,
     "metadata": {},
     "output_type": "execute_result"
    }
   ],
   "source": [
    "sales_data = pd.read_csv('sales_data.csv',parse_dates=['date'])\n",
    "sales_data"
   ]
  },
  {
   "cell_type": "code",
   "execution_count": 18,
   "metadata": {},
   "outputs": [
    {
     "data": {
      "text/plain": [
       "(186.0598684820378,\n",
       " <function __main__.forecast_sales(start_date: datetime.datetime, end_date: datetime.datetime, sales_data: pandas.core.frame.DataFrame)>)"
      ]
     },
     "execution_count": 18,
     "metadata": {},
     "output_type": "execute_result"
    }
   ],
   "source": [
    "calculate_new_order (order_date=order_date, \n",
    "                   lead_time_days=lead_time_days, \n",
    "                   days_to_next_order=days_to_next_order, \n",
    "                   sales_data=sales_data, \n",
    "                   current_stock_level=current_stock_level, \n",
    "                   stock_in_transit=stock_in_transit)\n"
   ]
  }
 ],
 "metadata": {
  "interpreter": {
   "hash": "ad15530d9d3c1bace80edbe998ddde9388452fbdabafee8e4fbdea80650a1911"
  },
  "kernelspec": {
   "display_name": "Python 3.7.3 64-bit ('base': conda)",
   "name": "python3"
  },
  "language_info": {
   "codemirror_mode": {
    "name": "ipython",
    "version": 3
   },
   "file_extension": ".py",
   "mimetype": "text/x-python",
   "name": "python",
   "nbconvert_exporter": "python",
   "pygments_lexer": "ipython3",
   "version": "3.7.3"
  }
 },
 "nbformat": 4,
 "nbformat_minor": 4
}
